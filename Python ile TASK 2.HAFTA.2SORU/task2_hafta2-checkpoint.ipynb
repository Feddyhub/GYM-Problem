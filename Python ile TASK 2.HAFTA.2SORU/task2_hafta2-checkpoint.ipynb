{
 "cells": [
  {
   "cell_type": "code",
   "execution_count": 62,
   "id": "99cd5521",
   "metadata": {},
   "outputs": [],
   "source": [
    "import numpy as np\n",
    "import pandas as pd"
   ]
  },
  {
   "cell_type": "code",
   "execution_count": 63,
   "id": "9963067c",
   "metadata": {},
   "outputs": [],
   "source": [
    "veriler = []\n",
    "df=[]"
   ]
  },
  {
   "cell_type": "code",
   "execution_count": 64,
   "id": "61d2bcae",
   "metadata": {},
   "outputs": [],
   "source": [
    "\n",
    "def veri_ekle():\n",
    "    ad = input(\"Adınızı giriniz: \")\n",
    "    soyad = input(\"Soyadınızı giriniz: \")\n",
    "    boy = int(input(\"Boyunuzu cm cinsinden giriniz: \"))\n",
    "    kilo = int(input(\"Kilonuzu kg cinsinden giriniz: \"))\n",
    "    yas = int(input(\"Yaşınızı giriniz: \"))\n",
    "    \n",
    "    if ad.lower() == \"hakan\":\n",
    "        ad = \"Hasan\"\n",
    "        kilo += 5\n",
    "    \n",
    "    _bmi = bmi(boy, kilo)\n",
    "    \n",
    "    veriler.append({\n",
    "        \"ad\": ad,\n",
    "        \"soyad\": soyad,\n",
    "        \"boy\": boy,\n",
    "        \"kilo\": kilo,\n",
    "        \"yas\": yas,\n",
    "        \"bmi\": _bmi\n",
    "    })"
   ]
  },
  {
   "cell_type": "code",
   "execution_count": 65,
   "id": "d05a67d7",
   "metadata": {},
   "outputs": [],
   "source": [
    "def bmi(boy, kilo):\n",
    "    payda = boy / 100\n",
    "    bmi = kilo / (payda * payda)\n",
    "    \n",
    "    if bmi < 18.5:\n",
    "        return \"Zayıf\"\n",
    "    elif 18.5 <= bmi <= 24.9:\n",
    "        return \"Sağlıklı\"\n",
    "    elif 25 <= bmi <= 29.9:\n",
    "        return \"Kilolu\"\n",
    "    else:\n",
    "        return \"Obez\""
   ]
  },
  {
   "cell_type": "code",
   "execution_count": 66,
   "id": "7840471e",
   "metadata": {},
   "outputs": [],
   "source": [
    "def veri_goster():\n",
    "    if not veriler:\n",
    "        print(\"Gösterilecek veri bulunmamaktadır.\")\n",
    "        return\n",
    "    \n",
    "    print(\"Tüm veriler:\")\n",
    "    for i, veri in enumerate(veriler, 1):\n",
    "        ad = veri.get(\"ad\", \"Bilgi yok\")\n",
    "        soyad = veri.get(\"soyad\", \"Bilgi yok\")\n",
    "        boy = veri.get(\"boy\", \"Bilgi yok\")\n",
    "        kilo = veri.get(\"kilo\", \"Bilgi yok\")\n",
    "        yas = veri.get(\"yas\", \"Bilgi yok\")\n",
    "        bmi = veri.get(\"bmi\", \"Bilgi yok\")\n",
    "        print(f\"{i}. {ad} {soyad} -- Yaş: {yas}, Boy: {boy} cm, Kilo: {kilo} kg, BMI: {bmi}\")\n",
    "\n"
   ]
  },
  {
   "cell_type": "code",
   "execution_count": 67,
   "id": "41000487",
   "metadata": {},
   "outputs": [],
   "source": [
    "def veri_cikart():\n",
    "    if not veriler:\n",
    "        print(\"Çıkarılacak veri bulunmamaktadır.\")\n",
    "        return\n",
    "    \n",
    "    son_veri = veriler.pop()\n",
    "    print(f\"{son_veri['ad']} {son_veri['soyad']} verisi çıkarıldı.\")\n"
   ]
  },
  {
   "cell_type": "code",
   "execution_count": 68,
   "id": "a15f749a",
   "metadata": {},
   "outputs": [
    {
     "data": {
      "text/plain": [
       "[]"
      ]
     },
     "execution_count": 68,
     "metadata": {},
     "output_type": "execute_result"
    }
   ],
   "source": [
    "veriler"
   ]
  },
  {
   "cell_type": "markdown",
   "id": "a187b897",
   "metadata": {},
   "source": [
    "# KAYDETMEK"
   ]
  },
  {
   "cell_type": "code",
   "execution_count": 69,
   "id": "95c4eaba",
   "metadata": {},
   "outputs": [],
   "source": [
    "def veri_kaydet(x):\n",
    "    df = pd.DataFrame(x)\n",
    "    df.to_excel(\"bmi.xlsx\")"
   ]
  },
  {
   "cell_type": "markdown",
   "id": "74f66dfd",
   "metadata": {},
   "source": [
    "# SIFIRLAMAK\n"
   ]
  },
  {
   "cell_type": "code",
   "execution_count": 70,
   "id": "a5c99d0d",
   "metadata": {},
   "outputs": [],
   "source": [
    "def veri_sifirla(x):\n",
    "    x.clear()"
   ]
  },
  {
   "cell_type": "markdown",
   "id": "03d74bd3",
   "metadata": {},
   "source": [
    "# YUKLEMEK"
   ]
  },
  {
   "cell_type": "markdown",
   "id": "e47726d2",
   "metadata": {},
   "source": [
    "# DUZENLEMEK\n"
   ]
  },
  {
   "cell_type": "code",
   "execution_count": 71,
   "id": "90af4a58",
   "metadata": {},
   "outputs": [],
   "source": [
    "def veri_duzenle():\n",
    "    if not veriler:\n",
    "        print(\"Düzenlenecek veri bulunmamaktadır.\")\n",
    "        return\n",
    "    \n",
    "    print(\"Düzenlenecek veriyi seçiniz:\")\n",
    "    for i, veri in enumerate(veriler, 1):\n",
    "        print(f\"{i}. {veri['ad']} {veri['soyad']}\")\n",
    "    \n",
    "    secim = int(input(\"Seçiminizi yapınız: \")) - 1\n",
    "    \n",
    "    if secim < 0 or secim >= len(veriler):\n",
    "        print(\"Geçersiz seçim.\")\n",
    "        return\n",
    "    \n",
    "    print(\"1. Yaş Değiştir\")\n",
    "    print(\"2. Boy Değiştir\")\n",
    "    print(\"3. Kilo Değiştir\")\n",
    "    \n",
    "    degisim = input(\"Seçiminizi yapınız: \")\n",
    "    \n",
    "    if degisim == \"1\":\n",
    "        yeni_yas = int(input(\"Yeni yaşınızı giriniz: \"))\n",
    "        veriler[secim][\"yas\"] = yeni_yas\n",
    "        print(\"Yaş değiştirildi.\")\n",
    "    elif degisim == \"2\":\n",
    "        yeni_boy = int(input(\"Yeni boyunuzu giriniz: \"))\n",
    "        veriler[secim][\"boy\"] = yeni_boy\n",
    "        veriler[secim][\"bmi\"] = bmi(yeni_boy, veriler[secim][\"kilo\"])\n",
    "        print(\"Boy değiştirildi. Yeni BMI skorunuz:\", veriler[secim][\"bmi\"])\n",
    "    elif degisim == \"3\":\n",
    "        yeni_kilo = int(input(\"Yeni kilonuzu giriniz: \"))\n",
    "        veriler[secim][\"kilo\"] = yeni_kilo\n",
    "        veriler[secim][\"bmi\"] = bmi(veriler[secim][\"boy\"], yeni_kilo)\n",
    "        print(\"Kilo değiştirildi. Yeni BMI skorunuz:\", veriler[secim][\"bmi\"])\n",
    "    else:\n",
    "        print(\"Geçersiz seçim.\")"
   ]
  },
  {
   "cell_type": "code",
   "execution_count": 72,
   "id": "b077f753",
   "metadata": {},
   "outputs": [],
   "source": [
    "def veritabani_yukle(x):\n",
    "    try:\n",
    "        df = pd.read_excel(x)\n",
    "        veriler = df.to_dict(orient='records')\n",
    "        print(\"Başarıyla yüklendi.\")\n",
    "        return veriler\n",
    "    except FileNotFoundError as hata_degiskeni:\n",
    "        print(\"Dosya bulunamadı.\")\n",
    "        return None\n",
    "    except Exception as diger_hata:\n",
    "        print(\"Beklenmeyen bir hata oluştu:\", diger_hata)\n",
    "        return None\n"
   ]
  },
  {
   "cell_type": "code",
   "execution_count": 73,
   "id": "c7663a5a",
   "metadata": {},
   "outputs": [
    {
     "name": "stdout",
     "output_type": "stream",
     "text": [
      "\n",
      "1. Veri Ekle\n",
      "2. Veri Çıkart\n",
      "3. Veri Düzenle\n",
      "4. Veri Göster\n",
      "5. Veri Kaydet\n",
      "6. Veri Sifirla\n",
      "7. Veri Yukle\n",
      "8. Çıkış\n",
      "Yapmak istediğiniz işlemi seçiniz: 1\n",
      "Adınızı giriniz: qwekmq\n",
      "Soyadınızı giriniz: qwekm\n",
      "Boyunuzu cm cinsinden giriniz: 12\n",
      "Kilonuzu kg cinsinden giriniz: 213\n",
      "Yaşınızı giriniz: 12\n",
      "\n",
      "1. Veri Ekle\n",
      "2. Veri Çıkart\n",
      "3. Veri Düzenle\n",
      "4. Veri Göster\n",
      "5. Veri Kaydet\n",
      "6. Veri Sifirla\n",
      "7. Veri Yukle\n",
      "8. Çıkış\n",
      "Yapmak istediğiniz işlemi seçiniz: 4\n",
      "Tüm veriler:\n",
      "1. qwekmq qwekm -- Yaş: 12, Boy: 12 cm, Kilo: 213 kg, BMI: Obez\n",
      "\n",
      "1. Veri Ekle\n",
      "2. Veri Çıkart\n",
      "3. Veri Düzenle\n",
      "4. Veri Göster\n",
      "5. Veri Kaydet\n",
      "6. Veri Sifirla\n",
      "7. Veri Yukle\n",
      "8. Çıkış\n",
      "Yapmak istediğiniz işlemi seçiniz: 5\n",
      "\n",
      "1. Veri Ekle\n",
      "2. Veri Çıkart\n",
      "3. Veri Düzenle\n",
      "4. Veri Göster\n",
      "5. Veri Kaydet\n",
      "6. Veri Sifirla\n",
      "7. Veri Yukle\n",
      "8. Çıkış\n",
      "Yapmak istediğiniz işlemi seçiniz: 6\n",
      "\n",
      "1. Veri Ekle\n",
      "2. Veri Çıkart\n",
      "3. Veri Düzenle\n",
      "4. Veri Göster\n",
      "5. Veri Kaydet\n",
      "6. Veri Sifirla\n",
      "7. Veri Yukle\n",
      "8. Çıkış\n",
      "Yapmak istediğiniz işlemi seçiniz: 4\n",
      "Gösterilecek veri bulunmamaktadır.\n",
      "\n",
      "1. Veri Ekle\n",
      "2. Veri Çıkart\n",
      "3. Veri Düzenle\n",
      "4. Veri Göster\n",
      "5. Veri Kaydet\n",
      "6. Veri Sifirla\n",
      "7. Veri Yukle\n",
      "8. Çıkış\n",
      "Yapmak istediğiniz işlemi seçiniz: 7\n",
      "Başarıyla yüklendi.\n",
      "\n",
      "1. Veri Ekle\n",
      "2. Veri Çıkart\n",
      "3. Veri Düzenle\n",
      "4. Veri Göster\n",
      "5. Veri Kaydet\n",
      "6. Veri Sifirla\n",
      "7. Veri Yukle\n",
      "8. Çıkış\n",
      "Yapmak istediğiniz işlemi seçiniz: 4\n",
      "Tüm veriler:\n",
      "1. qwekmq qwekm -- Yaş: 12, Boy: 12 cm, Kilo: 213 kg, BMI: Obez\n",
      "\n",
      "1. Veri Ekle\n",
      "2. Veri Çıkart\n",
      "3. Veri Düzenle\n",
      "4. Veri Göster\n",
      "5. Veri Kaydet\n",
      "6. Veri Sifirla\n",
      "7. Veri Yukle\n",
      "8. Çıkış\n",
      "Yapmak istediğiniz işlemi seçiniz: 8\n",
      "Programdan çıkılıyor.\n"
     ]
    }
   ],
   "source": [
    "path =\"bmi.xlsx\"\n",
    "while True:\n",
    "    print(\"\\n1. Veri Ekle\")\n",
    "    print(\"2. Veri Çıkart\")\n",
    "    print(\"3. Veri Düzenle\")\n",
    "    print(\"4. Veri Göster\")\n",
    "    print(\"5. Veri Kaydet\")\n",
    "    print(\"6. Veri Sifirla\")\n",
    "    print(\"7. Veri Yukle\")\n",
    "    print(\"8. Çıkış\")\n",
    "    \n",
    "    secim = input(\"Yapmak istediğiniz işlemi seçiniz: \")\n",
    "    \n",
    "    if secim == \"1\":\n",
    "        veri_ekle()\n",
    "    elif secim == \"2\":\n",
    "        veri_cikart()\n",
    "    elif secim == \"3\":\n",
    "        veri_duzenle()\n",
    "    elif secim == \"4\":\n",
    "        veri_goster()\n",
    "    elif secim == \"5\":\n",
    "        veri_kaydet(veriler)\n",
    "    elif secim == \"6\":\n",
    "        veri_sifirla(veriler)\n",
    "    elif secim == \"7\":\n",
    "        veriler = veritabani_yukle(path)\n",
    "    elif secim == \"8\":\n",
    "        print(\"Programdan çıkılıyor.\")\n",
    "        break\n",
    "    else:\n",
    "        print(\"Geçersiz seçim. Tekrar deneyiniz.\")\n"
   ]
  },
  {
   "cell_type": "code",
   "execution_count": 31,
   "id": "ac750c68",
   "metadata": {},
   "outputs": [
    {
     "data": {
      "text/plain": [
       "[['qwe', 'qwe', 12, 12, 32, 'Obez'], ['qwe', 'qwe', 23, 2, 2, 'Obez']]"
      ]
     },
     "execution_count": 31,
     "metadata": {},
     "output_type": "execute_result"
    }
   ],
   "source": [
    "veriler"
   ]
  },
  {
   "cell_type": "code",
   "execution_count": null,
   "id": "f4467924",
   "metadata": {},
   "outputs": [],
   "source": [
    "veriler"
   ]
  }
 ],
 "metadata": {
  "kernelspec": {
   "display_name": "Python 3 (ipykernel)",
   "language": "python",
   "name": "python3"
  },
  "language_info": {
   "codemirror_mode": {
    "name": "ipython",
    "version": 3
   },
   "file_extension": ".py",
   "mimetype": "text/x-python",
   "name": "python",
   "nbconvert_exporter": "python",
   "pygments_lexer": "ipython3",
   "version": "3.11.5"
  }
 },
 "nbformat": 4,
 "nbformat_minor": 5
}
